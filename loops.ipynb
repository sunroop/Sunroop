{
 "cells": [
  {
   "cell_type": "code",
   "execution_count": 9,
   "metadata": {},
   "outputs": [
    {
     "name": "stdout",
     "output_type": "stream",
     "text": [
      "GITAM\n",
      "GITAM\n",
      "GITAM\n",
      "GITAM\n",
      "GITAM\n"
     ]
    }
   ],
   "source": [
    "x=0\n",
    "while x<5:\n",
    "    print(\"GITAM\")\n",
    "    x=x+1\n",
    "    "
   ]
  },
  {
   "cell_type": "code",
   "execution_count": 13,
   "metadata": {},
   "outputs": [
    {
     "name": "stdout",
     "output_type": "stream",
     "text": [
      "enter a number=10\n",
      "1  2  3  4  5  6  7  8  9  10  "
     ]
    }
   ],
   "source": [
    "# print N natural numbers using while loop\n",
    "# input -10\n",
    "n=int(input(\"enter a number=\"))\n",
    "i=1\n",
    "while i <= n:\n",
    "        print (i,end=\"  \")\n",
    "        i=i+1\n",
    "        \n"
   ]
  },
  {
   "cell_type": "code",
   "execution_count": null,
   "metadata": {},
   "outputs": [
    {
     "name": "stdout",
     "output_type": "stream",
     "text": [
      "enter number =10\n"
     ]
    }
   ],
   "source": [
    "# add only even numbers between 1 to 10\n",
    "n = int (input(\"enter number =\"))\n",
    "i = 1\n",
    "sum = 0\n",
    "while i <= n :\n",
    "    if i % 2 == 0 :\n",
    "        sum = sum +1\n",
    "i = i + 1\n",
    "print(sum)    \n",
    "    "
   ]
  },
  {
   "cell_type": "markdown",
   "metadata": {},
   "source": [
    "# Functional operator\n",
    "\n",
    "### simple\n",
    "\n",
    "### easy to read \n",
    "\n",
    "### lengthy into subprograms"
   ]
  },
  {
   "cell_type": "code",
   "execution_count": null,
   "metadata": {},
   "outputs": [],
   "source": [
    "def nameofthefunction(<parameters>) :\n",
    "    statement\n",
    "    return\n",
    "    "
   ]
  },
  {
   "cell_type": "code",
   "execution_count": 1,
   "metadata": {},
   "outputs": [
    {
     "ename": "SyntaxError",
     "evalue": "invalid syntax (<ipython-input-1-2fa0475115af>, line 4)",
     "output_type": "error",
     "traceback": [
      "\u001b[0;36m  File \u001b[0;32m\"<ipython-input-1-2fa0475115af>\"\u001b[0;36m, line \u001b[0;32m4\u001b[0m\n\u001b[0;31m    add evendigits\u001b[0m\n\u001b[0m                 ^\u001b[0m\n\u001b[0;31mSyntaxError\u001b[0m\u001b[0;31m:\u001b[0m invalid syntax\n"
     ]
    }
   ],
   "source": [
    "def addevendigits(n) :\n",
    "    # statements to compute the output of the program\n",
    "    return\n",
    "add evendigits\n"
   ]
  },
  {
   "cell_type": "code",
   "execution_count": 4,
   "metadata": {},
   "outputs": [
    {
     "data": {
      "text/plain": [
       "8"
      ]
     },
     "execution_count": 4,
     "metadata": {},
     "output_type": "execute_result"
    }
   ],
   "source": [
    "# print the last digit number\n",
    "def printlarge(n) :\n",
    "    large = 0\n",
    "    while n!=0 :\n",
    "        r = n  %  10\n",
    "        if large < r :\n",
    "            large = r \n",
    "        n = n // 10\n",
    "        return large\n",
    "printlarge(19528)\n",
    "    \n",
    "        \n"
   ]
  }
 ],
 "metadata": {
  "kernelspec": {
   "display_name": "Python 3",
   "language": "python",
   "name": "python3"
  },
  "language_info": {
   "codemirror_mode": {
    "name": "ipython",
    "version": 3
   },
   "file_extension": ".py",
   "mimetype": "text/x-python",
   "name": "python",
   "nbconvert_exporter": "python",
   "pygments_lexer": "ipython3",
   "version": "3.7.3"
  }
 },
 "nbformat": 4,
 "nbformat_minor": 2
}
